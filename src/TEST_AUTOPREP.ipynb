{
 "cells": [
  {
   "cell_type": "code",
   "execution_count": 13,
   "metadata": {},
   "outputs": [],
   "source": [
    "# cargar df \n",
    "import pandas as pd\n",
    "df = pd.read_csv('medical_students_dataset.csv')"
   ]
  },
  {
   "cell_type": "code",
   "execution_count": 14,
   "metadata": {},
   "outputs": [],
   "source": [
    "import sys\n",
    "#sys.path.append(r\"C:\\Users\\usuario\\OneDrive - Mondragon Unibertsitatea\\Escritorio\\BDATA\\BDATA4\\Programacion\\autoprep\\src\")\n",
    "import autoprep as ap"
   ]
  },
  {
   "cell_type": "code",
   "execution_count": 15,
   "metadata": {},
   "outputs": [
    {
     "name": "stderr",
     "output_type": "stream",
     "text": [
      "c:\\Users\\usuario\\OneDrive - Mondragon Unibertsitatea\\Escritorio\\BDATA\\BDATA4\\Programacion\\autoprep\\src\\autoprep\\autoprep.py:88: FutureWarning: A value is trying to be set on a copy of a DataFrame or Series through chained assignment using an inplace method.\n",
      "The behavior will change in pandas 3.0. This inplace method will never work because the intermediate object on which we are setting values always behaves as a copy.\n",
      "\n",
      "For example, when doing 'df[col].method(value, inplace=True)', try using 'df.method({col: value}, inplace=True)' or df[col] = df[col].method(value) instead, to perform the operation inplace on the original object.\n",
      "\n",
      "\n",
      "  self.df[col].fillna(self.df[col].mode()[0], inplace=True)\n"
     ]
    },
    {
     "name": "stdout",
     "output_type": "stream",
     "text": [
      "Missing Analysis: {'total_missing': {'Student ID': 20000, 'Age': 20000, 'Gender': 20000, 'Height': 20000, 'Weight': 20000, 'Blood Type': 20000, 'BMI': 20000, 'Temperature': 20000, 'Heart Rate': 20000, 'Blood Pressure': 20000, 'Cholesterol': 20000, 'Diabetes': 20000, 'Smoking': 20000}, 'columns_with_missing': {'Student ID': 20000, 'Age': 20000, 'Gender': 20000, 'Height': 20000, 'Weight': 20000, 'Blood Type': 20000, 'BMI': 20000, 'Temperature': 20000, 'Heart Rate': 20000, 'Blood Pressure': 20000, 'Cholesterol': 20000, 'Diabetes': 20000, 'Smoking': 20000}, 'missing_ratio': {'Student ID': 0.1, 'Age': 0.1, 'Gender': 0.1, 'Height': 0.1, 'Weight': 0.1, 'Blood Type': 0.1, 'BMI': 0.1, 'Temperature': 0.1, 'Heart Rate': 0.1, 'Blood Pressure': 0.1, 'Cholesterol': 0.1, 'Diabetes': 0.1, 'Smoking': 0.1}}\n",
      " \n",
      "Outliers Analysis: {'Student ID': 0, 'Age': 0, 'Height': 0, 'Weight': 0, 'BMI': 0, 'Temperature': 2, 'Heart Rate': 0, 'Blood Pressure': 0, 'Cholesterol': 0}\n",
      " \n",
      "Basic Statistics: {'Student ID': {'mean': 44976.83787, 'median': 44387.0, 'std': 31231.06606838858, 'min': 1.0, 'max': 100000.0}, 'Age': {'mean': 26.219405, 'median': 27.0, 'std': 4.677371680228563, 'min': 18.0, 'max': 34.0}, 'Height': {'mean': 172.452425292162, 'median': 172.1298881592952, 'std': 15.61632779507411, 'min': 150.00004139318173, 'max': 199.9986386856763}, 'Weight': {'mean': 66.97448436000076, 'median': 66.57765980449146, 'std': 18.73254358257403, 'min': 40.00057777326063, 'max': 99.99990661273384}, 'BMI': {'mean': 22.01246613306998, 'median': 21.60254461395771, 'std': 7.769038158778704, 'min': 10.074837093946837, 'max': 44.35511259941607}, 'Temperature': {'mean': 98.38063663888526, 'median': 98.52973946154157, 'std': 0.8138260493872347, 'min': 96.39783549516254, 'max': 100.82485716582524}, 'Heart Rate': {'mean': 79.25339, 'median': 77.0, 'std': 10.974254219726204, 'min': 60.0, 'max': 99.0}, 'Blood Pressure': {'mean': 113.70223, 'median': 112.0, 'std': 13.903325125283795, 'min': 90.0, 'max': 139.0}, 'Cholesterol': {'mean': 188.337725, 'median': 192.0, 'std': 37.45868994761613, 'min': 120.0, 'max': 249.0}}\n",
      " \n",
      "Normality Tests: {'Student ID': {'skewness': 0.07523118432168728, 'kurtosis': -1.26667487868898, 'is_normal': True}, 'Age': {'skewness': -0.12286598321864269, 'kurtosis': -1.0548103656738246, 'is_normal': True}, 'Height': {'skewness': 0.0772714923363323, 'kurtosis': -1.2669346265782473, 'is_normal': True}, 'Weight': {'skewness': 0.07795113697710976, 'kurtosis': -1.2651174927800724, 'is_normal': True}, 'BMI': {'skewness': 0.31225424889893855, 'kurtosis': -0.5558284654304275, 'is_normal': True}, 'Temperature': {'skewness': -1.1497385439639531, 'kurtosis': 1.0678423124160887, 'is_normal': True}, 'Heart Rate': {'skewness': 0.06615682113120898, 'kurtosis': -1.013439987822752, 'is_normal': True}, 'Blood Pressure': {'skewness': 0.15674112850461355, 'kurtosis': -1.0991573139698068, 'is_normal': True}, 'Cholesterol': {'skewness': -0.19707832068243486, 'kurtosis': -1.2354169988298411, 'is_normal': True}}\n",
      " \n",
      "Model Results: {'RandomForestClassifier ACC': 0.8433, 'LogisticRegression ACC': 0.819675}\n",
      " \n"
     ]
    },
    {
     "name": "stderr",
     "output_type": "stream",
     "text": [
      "c:\\Users\\usuario\\anaconda3\\envs\\DM_11\\lib\\site-packages\\sklearn\\linear_model\\_logistic.py:469: ConvergenceWarning: lbfgs failed to converge (status=1):\n",
      "STOP: TOTAL NO. of ITERATIONS REACHED LIMIT.\n",
      "\n",
      "Increase the number of iterations (max_iter) or scale the data as shown in:\n",
      "    https://scikit-learn.org/stable/modules/preprocessing.html\n",
      "Please also refer to the documentation for alternative solver options:\n",
      "    https://scikit-learn.org/stable/modules/linear_model.html#logistic-regression\n",
      "  n_iter_i = _check_optimize_result(\n"
     ]
    }
   ],
   "source": [
    "# Inicializa la clase AutoPrep\n",
    "processor = ap.AutoPrep(df)\n",
    "#processor = ap.autoprep.AutoPrep(df)\n",
    "# 1. Analizar y manejar valores faltantes\n",
    "missing_analysis = processor.analyze_missing(impute_strategy='mode', threshold=0.7)\n",
    "print(\"Missing Analysis:\", missing_analysis)\n",
    "print(' ')\n",
    "\n",
    "# 2. Manejo de outliers\n",
    "outliers_analysis = processor.handle_outliers()\n",
    "print(\"Outliers Analysis:\", outliers_analysis)\n",
    "print(' ')\n",
    "\n",
    "# 3. Obtener estadísticas básicas\n",
    "basic_stats = processor.get_basic_stats()\n",
    "print(\"Basic Statistics:\", basic_stats)\n",
    "print(' ')\n",
    "\n",
    "# 4. Realizar pruebas de normalidad\n",
    "normality_tests = processor.normality_test()\n",
    "print(\"Normality Tests:\", normality_tests)\n",
    "print(' ')\n",
    "\n",
    "# 5. Ejecutar modelos (en este caso, detecta automáticamente el tipo de TARGET)\n",
    "model_results = processor.run_models(target=\"Smoking\")\n",
    "print(\"Model Results:\", model_results)\n",
    "print(' ')"
   ]
  },
  {
   "cell_type": "code",
   "execution_count": 16,
   "metadata": {},
   "outputs": [
    {
     "name": "stdout",
     "output_type": "stream",
     "text": [
      "Full Analysis: {'missing_analysis': {'total_missing': {'Student ID': 0, 'Age': 0, 'Gender': 0, 'Height': 0, 'Weight': 0, 'Blood Type': 0, 'BMI': 0, 'Temperature': 0, 'Heart Rate': 0, 'Blood Pressure': 0, 'Cholesterol': 0, 'Diabetes': 0, 'Smoking': 0}, 'columns_with_missing': {}, 'missing_ratio': {'Student ID': 0.0, 'Age': 0.0, 'Gender': 0.0, 'Height': 0.0, 'Weight': 0.0, 'Blood Type': 0.0, 'BMI': 0.0, 'Temperature': 0.0, 'Heart Rate': 0.0, 'Blood Pressure': 0.0, 'Cholesterol': 0.0, 'Diabetes': 0.0, 'Smoking': 0.0}}, 'outliers_analysis': {'Student ID': 0, 'Age': 0, 'Height': 0, 'Weight': 0, 'BMI': 0, 'Temperature': 2, 'Heart Rate': 0, 'Blood Pressure': 0, 'Cholesterol': 0}, 'basic_stats': {'Student ID': {'mean': 44976.83787, 'median': 44387.0, 'std': 31231.06606838858, 'min': 1.0, 'max': 100000.0}, 'Age': {'mean': 26.219405, 'median': 27.0, 'std': 4.677371680228563, 'min': 18.0, 'max': 34.0}, 'Height': {'mean': 172.452425292162, 'median': 172.1298881592952, 'std': 15.61632779507411, 'min': 150.00004139318173, 'max': 199.9986386856763}, 'Weight': {'mean': 66.97448436000076, 'median': 66.57765980449146, 'std': 18.73254358257403, 'min': 40.00057777326063, 'max': 99.99990661273384}, 'BMI': {'mean': 22.01246613306998, 'median': 21.60254461395771, 'std': 7.769038158778704, 'min': 10.074837093946837, 'max': 44.35511259941607}, 'Temperature': {'mean': 98.38063663888526, 'median': 98.52973946154157, 'std': 0.8138260493872347, 'min': 96.39783549516254, 'max': 100.82485716582524}, 'Heart Rate': {'mean': 79.25339, 'median': 77.0, 'std': 10.974254219726204, 'min': 60.0, 'max': 99.0}, 'Blood Pressure': {'mean': 113.70223, 'median': 112.0, 'std': 13.903325125283795, 'min': 90.0, 'max': 139.0}, 'Cholesterol': {'mean': 188.337725, 'median': 192.0, 'std': 37.45868994761613, 'min': 120.0, 'max': 249.0}}, 'normality_tests': {'Student ID': {'skewness': 0.07523118432168728, 'kurtosis': -1.26667487868898, 'is_normal': True}, 'Age': {'skewness': -0.12286598321864269, 'kurtosis': -1.0548103656738246, 'is_normal': True}, 'Height': {'skewness': 0.0772714923363323, 'kurtosis': -1.2669346265782473, 'is_normal': True}, 'Weight': {'skewness': 0.07795113697710976, 'kurtosis': -1.2651174927800724, 'is_normal': True}, 'BMI': {'skewness': 0.31225424889893855, 'kurtosis': -0.5558284654304275, 'is_normal': True}, 'Temperature': {'skewness': -1.1497385439639531, 'kurtosis': 1.0678423124160887, 'is_normal': True}, 'Heart Rate': {'skewness': 0.06615682113120898, 'kurtosis': -1.013439987822752, 'is_normal': True}, 'Blood Pressure': {'skewness': 0.15674112850461355, 'kurtosis': -1.0991573139698068, 'is_normal': True}, 'Cholesterol': {'skewness': -0.19707832068243486, 'kurtosis': -1.2354169988298411, 'is_normal': True}}, 'model_accuracy': {'RandomForestClassifier ACC': 0.84345, 'LogisticRegression ACC': 0.819675}}\n"
     ]
    },
    {
     "name": "stderr",
     "output_type": "stream",
     "text": [
      "c:\\Users\\usuario\\anaconda3\\envs\\DM_11\\lib\\site-packages\\sklearn\\linear_model\\_logistic.py:469: ConvergenceWarning: lbfgs failed to converge (status=1):\n",
      "STOP: TOTAL NO. of ITERATIONS REACHED LIMIT.\n",
      "\n",
      "Increase the number of iterations (max_iter) or scale the data as shown in:\n",
      "    https://scikit-learn.org/stable/modules/preprocessing.html\n",
      "Please also refer to the documentation for alternative solver options:\n",
      "    https://scikit-learn.org/stable/modules/linear_model.html#logistic-regression\n",
      "  n_iter_i = _check_optimize_result(\n"
     ]
    }
   ],
   "source": [
    "# 6. Ejecución de análisis completo (incluye todas las funciones anteriores)\n",
    "full_analysis = processor.run_full_analysis(target=\"Smoking\")\n",
    "print(\"Full Analysis:\", full_analysis)"
   ]
  }
 ],
 "metadata": {
  "kernelspec": {
   "display_name": "DM_11",
   "language": "python",
   "name": "python3"
  },
  "language_info": {
   "codemirror_mode": {
    "name": "ipython",
    "version": 3
   },
   "file_extension": ".py",
   "mimetype": "text/x-python",
   "name": "python",
   "nbconvert_exporter": "python",
   "pygments_lexer": "ipython3",
   "version": "3.10.13"
  }
 },
 "nbformat": 4,
 "nbformat_minor": 2
}
