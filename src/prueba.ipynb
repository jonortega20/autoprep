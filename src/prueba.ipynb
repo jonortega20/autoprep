{
 "cells": [
  {
   "cell_type": "code",
   "execution_count": 11,
   "metadata": {},
   "outputs": [],
   "source": [
    "from autopreps.autoprep import AutoPrep\n",
    "import seaborn as sns\n",
    "\n",
    "# Carga el conjunto de datos de ejemplo\n",
    "df = sns.load_dataset('iris')\n",
    "dp = AutoPrep(df)"
   ]
  },
  {
   "cell_type": "code",
   "execution_count": 12,
   "metadata": {},
   "outputs": [
    {
     "name": "stdout",
     "output_type": "stream",
     "text": [
      "Total Missing Values:\n",
      "No missings in the dataset.\n",
      "\n",
      "\n",
      "Columns with Missing Values:\n",
      "No missing values in any column.\n",
      "\n",
      "\n",
      "Missing Values Ratio:\n",
      "sepal_length: 0.00 missing ratio\n",
      "sepal_width: 0.00 missing ratio\n",
      "petal_length: 0.00 missing ratio\n",
      "petal_width: 0.00 missing ratio\n",
      "species: 0.00 missing ratio\n",
      "\n",
      "\n",
      "No columns were dropped based on missing value threshold.\n"
     ]
    },
    {
     "data": {
      "text/plain": [
       "{}"
      ]
     },
     "execution_count": 12,
     "metadata": {},
     "output_type": "execute_result"
    }
   ],
   "source": [
    "missing_analysis = dp.analyze_missing()\n",
    "missing_analysis"
   ]
  },
  {
   "cell_type": "code",
   "execution_count": 13,
   "metadata": {},
   "outputs": [
    {
     "name": "stdout",
     "output_type": "stream",
     "text": [
      "sepal_length      0\n",
      "sepal_width       0\n",
      "petal_length      0\n",
      "petal_width       0\n",
      "species           0\n",
      "new_column      150\n",
      "dtype: int64\n",
      "Total Missing Values:\n",
      "sepal_length: 0 missing  |  sepal_width: 0 missing  |  petal_length: 0 missing  |  petal_width: 0 missing  |  species: 0 missing  |  new_column: 150 missing  |  \n",
      "\n",
      "Columns with Missing Values:\n",
      "new_column: 150 missing\n",
      "\n",
      "\n",
      "Missing Values Ratio:\n",
      "sepal_length: 0.00 missing ratio\n",
      "sepal_width: 0.00 missing ratio\n",
      "petal_length: 0.00 missing ratio\n",
      "petal_width: 0.00 missing ratio\n",
      "species: 0.00 missing ratio\n",
      "new_column: 1.00 missing ratio\n",
      "\n",
      "\n",
      "Dropped Columns (more than 90.0% missing): ['new_column']\n"
     ]
    }
   ],
   "source": [
    "  # Asegúrate de que AutoPrep esté importado correctamente\n",
    "import numpy as np\n",
    "# Cargar el dataset iris\n",
    "df = sns.load_dataset('iris')\n",
    "\n",
    "# Crear una nueva columna con valores faltantes (NaN)\n",
    "df['new_column'] = np.nan\n",
    "\n",
    "# Introducir valores faltantes en algunas filas de la nueva columna (por ejemplo, 10% de los datos)\n",
    "nan_indices = np.random.choice(df.index, size=int(0.1 * len(df)), replace=False)\n",
    "df.loc[nan_indices, 'new_column'] = np.nan\n",
    "\n",
    "# Verificar que la columna tiene valores faltantes\n",
    "print(df.isnull().sum())  # Ver cuántos valores faltan en cada columna\n",
    "\n",
    "# Crear el objeto AutoPrep\n",
    "dp = AutoPrep(df)\n",
    "\n",
    "# Probar la función analyze_missing\n",
    "missing_stats = dp.analyze_missing(threshold=0.9, impute_strategy=\"mean\")\n",
    "\n"
   ]
  },
  {
   "cell_type": "code",
   "execution_count": 14,
   "metadata": {},
   "outputs": [
    {
     "data": {
      "text/plain": [
       "{'sepal_length': 0, 'sepal_width': 1, 'petal_length': 0, 'petal_width': 0}"
      ]
     },
     "execution_count": 14,
     "metadata": {},
     "output_type": "execute_result"
    }
   ],
   "source": [
    "outliers = dp.handle_outliers()\n",
    "outliers"
   ]
  },
  {
   "cell_type": "code",
   "execution_count": 15,
   "metadata": {},
   "outputs": [
    {
     "name": "stdout",
     "output_type": "stream",
     "text": [
      "Basic Stats:\n"
     ]
    },
    {
     "data": {
      "text/plain": [
       "{'sepal_length': 'skewness: 0.31, std: 0.83, mean: 5.84, median: 5.8, min: 4.3, max: 7.9',\n",
       " 'sepal_width': 'skewness: 0.32, std: 0.44, mean: 3.06, median: 3.0, min: 2.0, max: 4.4',\n",
       " 'petal_length': 'skewness: -0.27, std: 1.77, mean: 3.76, median: 4.35, min: 1.0, max: 6.9',\n",
       " 'petal_width': 'skewness: -0.1, std: 0.76, mean: 1.2, median: 1.3, min: 0.1, max: 2.5'}"
      ]
     },
     "execution_count": 15,
     "metadata": {},
     "output_type": "execute_result"
    }
   ],
   "source": [
    "# Estadísticas básicas\n",
    "basic_stats = dp.get_basic_stats()\n",
    "print(\"Basic Stats:\")\n",
    "basic_stats"
   ]
  },
  {
   "cell_type": "code",
   "execution_count": 16,
   "metadata": {},
   "outputs": [
    {
     "data": {
      "text/plain": [
       "{'sepal_length': {'skewness': 0.3149109566369728,\n",
       "  'kurtosis': -0.5520640413156395,\n",
       "  'is_normal': True},\n",
       " 'sepal_width': {'skewness': 0.31896566471359966,\n",
       "  'kurtosis': 0.2282490424681929,\n",
       "  'is_normal': True},\n",
       " 'petal_length': {'skewness': -0.27488417975101276,\n",
       "  'kurtosis': -1.4021034155217518,\n",
       "  'is_normal': True},\n",
       " 'petal_width': {'skewness': -0.10296674764898116,\n",
       "  'kurtosis': -1.340603996612646,\n",
       "  'is_normal': True}}"
      ]
     },
     "execution_count": 16,
     "metadata": {},
     "output_type": "execute_result"
    }
   ],
   "source": [
    "# Prueba de normalidad\n",
    "normality_results = dp.normality_test()\n",
    "normality_results"
   ]
  },
  {
   "cell_type": "code",
   "execution_count": 17,
   "metadata": {},
   "outputs": [
    {
     "data": {
      "image/png": "[encoded data removed]",
      "text/plain": [
       "<Figure size 720x432 with 1 Axes>"
      ]
     },
     "metadata": {
      "needs_background": "light"
     },
     "output_type": "display_data"
    }
   ],
   "source": [
    "# Importancia de características\n",
    "dp.simple_feature_importance(target='species', top_n=5)"
   ]
  },
  {
   "cell_type": "code",
   "execution_count": 18,
   "metadata": {},
   "outputs": [
    {
     "name": "stdout",
     "output_type": "stream",
     "text": [
      "Model Results: {'RandomForestRegressor MSE': 0.1496685819393417, 'LinearRegression MSE': 0.08853623773910664}\n"
     ]
    }
   ],
   "source": [
    "# Ejecución de modelos\n",
    "model_results = dp.run_models(target='sepal_width')\n",
    "print(\"Model Results:\", model_results)"
   ]
  },
  {
   "cell_type": "code",
   "execution_count": 19,
   "metadata": {},
   "outputs": [
    {
     "name": "stdout",
     "output_type": "stream",
     "text": [
      "Selected Features (RFE): Index(['petal_length', 'petal_width'], dtype='object')\n",
      "Selected Features (Importance): Index(['petal_length', 'petal_width', 'sepal_length'], dtype='object')\n",
      "Selected Features (SelectKBest): Index(['sepal_length', 'petal_length', 'petal_width'], dtype='object')\n"
     ]
    }
   ],
   "source": [
    "# Selección de características con RFE\n",
    "selected_features_rfe = dp.select_features(target='species', k = 2)\n",
    "print(\"Selected Features (RFE):\", selected_features_rfe)\n",
    "\n",
    "# Selección de características basada en la importancia\n",
    "selected_features_importance = dp.select_features(method='importance', target='species', k=3)\n",
    "print(\"Selected Features (Importance):\", selected_features_importance)\n",
    "\n",
    "# Selección de características con SelectKBest\n",
    "selected_features_kbest = dp.select_features(method='selectkbest', target='species', k=3)\n",
    "print(\"Selected Features (SelectKBest):\", selected_features_kbest)"
   ]
  },
  {
   "cell_type": "code",
   "execution_count": 20,
   "metadata": {},
   "outputs": [
    {
     "name": "stdout",
     "output_type": "stream",
     "text": [
      "Total Missing Values:\n",
      "No missings in the dataset.\n",
      "\n",
      "\n",
      "Columns with Missing Values:\n",
      "No missing values in any column.\n",
      "\n",
      "\n",
      "Missing Values Ratio:\n",
      "sepal_length: 0.00 missing ratio\n",
      "sepal_width: 0.00 missing ratio\n",
      "petal_length: 0.00 missing ratio\n",
      "petal_width: 0.00 missing ratio\n",
      "species: 0.00 missing ratio\n",
      "\n",
      "\n",
      "No columns were dropped based on missing value threshold.\n"
     ]
    },
    {
     "data": {
      "image/png": "[encoded data removed]",
      "text/plain": [
       "<Figure size 720x432 with 1 Axes>"
      ]
     },
     "metadata": {
      "needs_background": "light"
     },
     "output_type": "display_data"
    },
    {
     "data": {
      "text/plain": [
       "{'missing_analysis': {},\n",
       " 'outliers_analysis': {'sepal_length': 0,\n",
       "  'sepal_width': 1,\n",
       "  'petal_length': 0,\n",
       "  'petal_width': 0},\n",
       " 'basic_stats': {'sepal_length': 'skewness: 0.31, std: 0.83, mean: 5.84, median: 5.8, min: 4.3, max: 7.9',\n",
       "  'sepal_width': 'skewness: 0.32, std: 0.44, mean: 3.06, median: 3.0, min: 2.0, max: 4.4',\n",
       "  'petal_length': 'skewness: -0.27, std: 1.77, mean: 3.76, median: 4.35, min: 1.0, max: 6.9',\n",
       "  'petal_width': 'skewness: -0.1, std: 0.76, mean: 1.2, median: 1.3, min: 0.1, max: 2.5'},\n",
       " 'normality_tests': {'sepal_length': {'skewness': 0.3149109566369728,\n",
       "   'kurtosis': -0.5520640413156395,\n",
       "   'is_normal': True},\n",
       "  'sepal_width': {'skewness': 0.31896566471359966,\n",
       "   'kurtosis': 0.2282490424681929,\n",
       "   'is_normal': True},\n",
       "  'petal_length': {'skewness': -0.27488417975101276,\n",
       "   'kurtosis': -1.4021034155217518,\n",
       "   'is_normal': True},\n",
       "  'petal_width': {'skewness': -0.10296674764898116,\n",
       "   'kurtosis': -1.340603996612646,\n",
       "   'is_normal': True}},\n",
       " 'select_features': Index(['petal_length', 'petal_width'], dtype='object'),\n",
       " 'feature_importance': None,\n",
       " 'model_accuracy': {'RandomForestClassifier ACC': 1.0,\n",
       "  'LogisticRegression ACC': 1.0}}"
      ]
     },
     "execution_count": 20,
     "metadata": {},
     "output_type": "execute_result"
    }
   ],
   "source": [
    "normality_results = dp.run_full_analysis(target='species')\n",
    "normality_results"
   ]
  }
 ],
 "metadata": {
  "kernelspec": {
   "display_name": "base",
   "language": "python",
   "name": "python3"
  },
  "language_info": {
   "codemirror_mode": {
    "name": "ipython",
    "version": 3
   },
   "file_extension": ".py",
   "mimetype": "text/x-python",
   "name": "python",
   "nbconvert_exporter": "python",
   "pygments_lexer": "ipython3",
   "version": "3.9.12"
  }
 },
 "nbformat": 4,
 "nbformat_minor": 2
}
